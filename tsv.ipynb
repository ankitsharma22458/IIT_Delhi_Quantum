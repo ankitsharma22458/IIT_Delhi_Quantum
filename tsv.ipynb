{
 "cells": [
  {
   "cell_type": "code",
   "execution_count": 1,
   "metadata": {},
   "outputs": [
    {
     "ename": "ModuleNotFoundError",
     "evalue": "No module named 'qiskit.aqua'",
     "output_type": "error",
     "traceback": [
      "\u001b[0;31m---------------------------------------------------------------------------\u001b[0m",
      "\u001b[0;31mModuleNotFoundError\u001b[0m                       Traceback (most recent call last)",
      "Cell \u001b[0;32mIn [1], line 26\u001b[0m\n\u001b[1;32m     23\u001b[0m \u001b[39mimport\u001b[39;00m \u001b[39mmath\u001b[39;00m\n\u001b[1;32m     25\u001b[0m \u001b[39m# import optimization tools\u001b[39;00m\n\u001b[0;32m---> 26\u001b[0m \u001b[39mfrom\u001b[39;00m \u001b[39mqiskit\u001b[39;00m\u001b[39m.\u001b[39;00m\u001b[39maqua\u001b[39;00m\u001b[39m.\u001b[39;00m\u001b[39mcomponents\u001b[39;00m\u001b[39m.\u001b[39;00m\u001b[39moptimizers\u001b[39;00m \u001b[39mimport\u001b[39;00m COBYLA, SPSA, SLSQP, L_BFGS_B\n\u001b[1;32m     27\u001b[0m \u001b[39mfrom\u001b[39;00m \u001b[39mqiskit\u001b[39;00m\u001b[39m.\u001b[39;00m\u001b[39maqua\u001b[39;00m\u001b[39m.\u001b[39;00m\u001b[39mcomponents\u001b[39;00m\u001b[39m.\u001b[39;00m\u001b[39mvariational_forms\u001b[39;00m \u001b[39mimport\u001b[39;00m RYRZ\n\u001b[1;32m     28\u001b[0m \u001b[39mfrom\u001b[39;00m \u001b[39mqiskit\u001b[39;00m\u001b[39m.\u001b[39;00m\u001b[39maqua\u001b[39;00m\u001b[39m.\u001b[39;00m\u001b[39malgorithms\u001b[39;00m \u001b[39mimport\u001b[39;00m VQE, QAOA, NumPyMinimumEigensolver\n",
      "\u001b[0;31mModuleNotFoundError\u001b[0m: No module named 'qiskit.aqua'"
     ]
    }
   ],
   "source": [
    "# write a qiskit program for travelling salesman problem\n",
    "\n",
    "from qiskit import QuantumCircuit, ClassicalRegister, QuantumRegister\n",
    "from qiskit import execute, Aer\n",
    "from qiskit.tools.visualization import plot_histogram\n",
    "from qiskit.tools.visualization import circuit_drawer\n",
    "from qiskit import IBMQ\n",
    "from qiskit.providers.ibmq import least_busy\n",
    "from qiskit.tools.monitor import job_monitor\n",
    "from qiskit import BasicAer\n",
    "from qiskit import IBMQ\n",
    "from qiskit.providers.ibmq import least_busy\n",
    "from qiskit.tools.monitor import job_monitor\n",
    "from qiskit import BasicAer\n",
    "from qiskit import IBMQ\n",
    "from qiskit.providers.ibmq import least_busy   \n",
    "\n",
    "# import basic plot tools\n",
    "from qiskit.visualization import plot_histogram\n",
    "\n",
    "# import math tools\n",
    "import numpy as np\n",
    "import math\n",
    "\n",
    "# import optimization tools\n",
    "# from qiskit.aqua.components.optimizers import COBYLA, SPSA, SLSQP, L_BFGS_B\n",
    "# from qiskit.aqua.components.variational_forms import RYRZ\n",
    "# from qiskit.aqua.algorithms import VQE, QAOA, NumPyMinimumEigensolver\n",
    "# from qiskit.aqua import QuantumInstance\n",
    "# from qiskit.aqua import aqua_globals\n",
    "\n",
    "# # import Qiskit Aqua\n",
    "# from qiskit.aqua import Operator, run_algorithm\n",
    "# from qiskit.aqua.input import EnergyInput\n",
    "from qiskit import tsp\n",
    "\n",
    "\n",
    "# write a program for travelling salesman problem\n",
    "# define the number of cities\n",
    "n = 4\n",
    "    \n",
    "# define the distance matrix\n",
    "distance_matrix = [[0,1, 15, 6], \n",
    "                     [2, 0, 7, 3],\n",
    "                        [9, 6, 0, 12],\n",
    "                        [10, 4, 8, 0]]\n",
    "\n",
    "# define the number of qubits required to represent the distance matrix\n",
    "qubitOp, offset = tsp.get_tsp_qubitops(distance_matrix)\n",
    "\n",
    "# define the backend\n",
    "backend = BasicAer.get_backend('statevector_simulator')\n",
    "    \n",
    "# define the optimizer\n",
    "optimizer = COBYLA(maxiter=1000)  \n",
    "\n",
    "# define the variational form\n",
    "var_form = RYRZ(qubitOp.num_qubits, depth=3, entanglement='full')\n",
    "\n",
    "# define the quantum instance\n",
    "quantum_instance = QuantumInstance(backend, shots=1024, seed_simulator=aqua_globals.random_seed, seed_transpiler=aqua_globals.random_seed)\n",
    "\n",
    "# define the VQE algorithm\n",
    "vqe = VQE(qubitOp, var_form, optimizer)\n",
    "    \n",
    "# run the algorithm\n",
    "result = vqe.run(quantum_instance)\n",
    "\n",
    "# get the results\n",
    "x = tsp.sample_most_likely(result['eigvecs'][0])\n",
    "print('energy:', result['energy'])\n",
    "print('time:', result['eval_time'])\n",
    "print('solution:', tsp.get_tsp_solution(x))\n",
    "print('solution objective:', tsp.tsp_value(x, distance_matrix))\n",
    "\n",
    "# draw the circuit\n",
    "circuit_drawer(vqe.construct_circuit(x), output='mpl')\n",
    "\n",
    "\n",
    "\n",
    "                   "
   ]
  }
 ],
 "metadata": {
  "kernelspec": {
   "display_name": "quantum",
   "language": "python",
   "name": "python3"
  },
  "language_info": {
   "codemirror_mode": {
    "name": "ipython",
    "version": 3
   },
   "file_extension": ".py",
   "mimetype": "text/x-python",
   "name": "python",
   "nbconvert_exporter": "python",
   "pygments_lexer": "ipython3",
   "version": "3.10.6 | packaged by conda-forge | (main, Aug 22 2022, 20:38:29) [Clang 13.0.1 ]"
  },
  "orig_nbformat": 4,
  "vscode": {
   "interpreter": {
    "hash": "49eafe97ca7293e1e87e3552df4ad6cd1cb816687cbbcb2ea2b3518cc5ded584"
   }
  }
 },
 "nbformat": 4,
 "nbformat_minor": 2
}
