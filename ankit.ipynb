{
 "cells": [
  {
   "cell_type": "code",
   "execution_count": 1,
   "metadata": {},
   "outputs": [
    {
     "name": "stdout",
     "output_type": "stream",
     "text": [
      "Optimal route: []\n",
      "Minimum distance: 8.14307634665436e-10\n"
     ]
    }
   ],
   "source": [
    "import numpy as np\n",
    "from scipy.optimize import linprog\n",
    "\n",
    "# Define the distance matrix for the cities\n",
    "# The TSP is symmetric, so the distance from city A to city B is the same as the distance from city B to city A\n",
    "distances = np.array([[0, 10, 15, 20],\n",
    "                      [10, 0, 35, 25],\n",
    "                      [15, 35, 0, 30],\n",
    "                      [20, 25, 30, 0]])\n",
    "\n",
    "# Number of cities\n",
    "n = distances.shape[0]\n",
    "\n",
    "# Set up the optimization problem\n",
    "# We want to minimize the total distance traveled, so our objective function is the sum of all the distances\n",
    "# We will use binary variables to indicate whether each city is visited (1) or not visited (0)\n",
    "c = np.ones(n ** 2)\n",
    "\n",
    "# The constraints are as follows:\n",
    "# (1) Each city must be visited exactly once\n",
    "# (2) The starting city must be visited first and last\n",
    "# (3) The path must be continuous, so each city can only be visited after the previous city\n",
    "A = np.zeros((2 * n + (n - 1), n ** 2))\n",
    "b = np.zeros(2 * n + (n - 1))\n",
    "\n",
    "# Constraint (1): Each city must be visited exactly once\n",
    "for i in range(n):\n",
    "    A[i, i::n] = 1\n",
    "b[:n] = 1\n",
    "\n",
    "# Constraint (2): The starting city must be visited first and last\n",
    "A[n, 0] = 1\n",
    "A[n + 1, -1] = 1\n",
    "b[n] = 1\n",
    "b[n + 1] = 1\n",
    "\n",
    "# Constraint (3): The path must be continuous\n",
    "for i in range(1, n):\n",
    "    A[n + 1 + i - 1, i * n - 1] = 1\n",
    "    A[n + 1 + i - 1, i::n] = -1\n",
    "    b[n + 1 + i - 1] = 0\n",
    "\n",
    "# Solve the optimization problem using linear programming\n",
    "res = linprog(c, A_ub=A, b_ub=b, bounds=(0, 1), method='interior-point')\n",
    "\n",
    "# Extract the optimal solution\n",
    "x = np.round(res.x).astype(int)\n",
    "\n",
    "# Construct the list of cities visited in the optimal order\n",
    "cities = []\n",
    "for i in range(n):\n",
    "    for j in range(n):\n",
    "        if x[i * n + j] == 1:\n",
    "            cities.append(j)\n",
    "\n",
    "# Print the optimal solution\n",
    "print(f'Optimal route: {cities}')\n",
    "print(f'Minimum distance: {res.fun}')\n"
   ]
  }
 ],
 "metadata": {
  "kernelspec": {
   "display_name": "dataScienceEnv",
   "language": "python",
   "name": "python3"
  },
  "language_info": {
   "codemirror_mode": {
    "name": "ipython",
    "version": 3
   },
   "file_extension": ".py",
   "mimetype": "text/x-python",
   "name": "python",
   "nbconvert_exporter": "python",
   "pygments_lexer": "ipython3",
   "version": "3.8.8 | packaged by conda-forge | (default, Feb 20 2021, 15:50:57) \n[Clang 11.0.1 ]"
  },
  "orig_nbformat": 4,
  "vscode": {
   "interpreter": {
    "hash": "399ad8e6089c16fbccd20f7ce19a022748c063949a8a55844853d4ba78a8dda4"
   }
  }
 },
 "nbformat": 4,
 "nbformat_minor": 2
}
