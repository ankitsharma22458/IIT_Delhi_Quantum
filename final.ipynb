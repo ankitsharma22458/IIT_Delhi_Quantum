{
 "cells": [
  {
   "cell_type": "code",
   "execution_count": null,
   "metadata": {},
   "outputs": [],
   "source": [
    "# useful additional packages\n",
    "import matplotlib.pyplot as plt\n",
    "import matplotlib.axes as axes\n",
    "%matplotlib inline\n",
    "import numpy as np\n",
    "import networkx as nx\n",
    "\n",
    "from qiskit import Aer\n",
    "from qiskit.tools.visualization import plot_histogram\n",
    "from qiskit.circuit.library import TwoLocal\n",
    "from qiskit.optimization.applications.ising import max_cut, tsp\n",
    "from qiskit.aqua.algorithms import VQE, NumPyMinimumEigensolver\n",
    "from qiskit.aqua.components.optimizers import SPSA\n",
    "from qiskit.aqua import aqua_globals\n",
    "from qiskit.aqua import QuantumInstance\n",
    "from qiskit.optimization.applications.ising.common import sample_most_likely\n",
    "from qiskit.optimization.algorithms import MinimumEigenOptimizer\n",
    "from qiskit.optimization.problems import QuadraticProgram\n",
    "\n",
    "# setup aqua logging\n",
    "import logging\n",
    "from qiskit.aqua import set_qiskit_aqua_logging\n",
    "# set_qiskit_aqua_logging(logging.DEBUG)  # choose INFO, DEBUG to see the log"
   ]
  },
  {
   "cell_type": "code",
   "execution_count": null,
   "metadata": {},
   "outputs": [],
   "source": [
    "# Generating a graph of 3 nodes\n",
    "n = 3\n",
    "num_qubits = n ** 2\n",
    "ins = tsp.random_tsp(n, seed=123)\n",
    "print('distance\\n', ins.w)\n",
    "\n",
    "# Draw the graph\n",
    "G = nx.Graph()\n",
    "G.add_nodes_from(np.arange(0, ins.dim, 1))\n",
    "colors = ['r' for node in G.nodes()]\n",
    "\n",
    "for i in range(0, ins.dim):\n",
    "    for j in range(i+1, ins.dim):\n",
    "        G.add_edge(i, j, weight=ins.w[i,j])\n",
    "\n",
    "pos = {k: v for k, v in enumerate(ins.coord)}\n",
    "\n",
    "draw_graph(G, colors, pos)"
   ]
  },
  {
   "cell_type": "code",
   "execution_count": null,
   "metadata": {},
   "outputs": [],
   "source": [
    "#import the libraries\n",
    "from qiskit import Aer, IBMQ\n",
    "from qiskit.aqua.algorithms import QAOA\n",
    "from qiskit.optimization.ising import max_cut, tsp\n",
    "from qiskit.optimization.ising.common import sample_most_likely\n",
    "import networkx as nx\n",
    "import numpy as np\n",
    "\n",
    "# Set up the 3-node graph\n",
    "nodes = range(3)\n",
    "distances = np.array([[0, 2, 1], [2, 0, 3], [1, 3, 0]])\n",
    "graph = nx.Graph()\n",
    "graph.add_nodes_from(nodes)\n",
    "for i in range(len(distances)):\n",
    "    for j in range(I):\n",
    "        graph.add_edge(i, j, weight=distances[I, j])\n",
    "\n",
    "# Setup the QAOA instance and the classical optimizer\n",
    "qaoa = QAOA(max_cut.MaxCut(graph), p=2,\n",
    "            optimizer=Aer.get_backend('statevector_simulator'))\n",
    "\n",
    "# Run the algorithm and retrieve the results\n",
    "results = qaoa.run(quantum_instance=Aer.get_backend('qasm_simulator'))\n",
    "\n",
    "# Get the most likely solution\n",
    "x = sample_most_likely(results['eigvecs'][0])\n",
    "print('energy:', results['energy'])\n",
    "print('solution:', x)"
   ]
  },
  {
   "cell_type": "code",
   "execution_count": 2,
   "metadata": {},
   "outputs": [
    {
     "name": "stdout",
     "output_type": "stream",
     "text": [
      "{'101': 126, '100': 118, '001': 134, '110': 124, '000': 126, '010': 143, '111': 137, '011': 116}\n"
     ]
    }
   ],
   "source": [
    "from qiskit import QuantumCircuit, QuantumRegister, ClassicalRegister, execute, Aer\n",
    "import numpy as np\n",
    "\n",
    "# Create a classical and a quantum register\n",
    "q = QuantumRegister(3)\n",
    "c = ClassicalRegister(3)\n",
    "\n",
    "# Create a quantum circuit\n",
    "circuit = QuantumCircuit(q, c)\n",
    "\n",
    "# Set up the circuit for QAOA\n",
    "# Step 1 - Max-cut\n",
    "# Initialize the angles\n",
    "beta = np.random.uniform(0, 2*np.pi, 3)\n",
    "gamma = np.random.uniform(0, 2*np.pi, 3)\n",
    "\n",
    "# Add the first layer of gates\n",
    "for i in range(3):\n",
    "    circuit.rx(gamma[i], q[i])\n",
    "    circuit.h(q[i])\n",
    "    circuit.rz(beta[i], q[i])\n",
    "\n",
    "# Add the second layer of gates\n",
    "for i in range(3):\n",
    "    circuit.cx(q[0], q[1])\n",
    "    circuit.cx(q[1], q[2])\n",
    "\n",
    "# Measure the circuit\n",
    "circuit.measure(q, c)\n",
    "\n",
    "# Execute the circuit\n",
    "simulator = Aer.get_backend('qasm_simulator')\n",
    "job = execute(circuit, simulator)\n",
    "result = job.result()\n",
    "\n",
    "# Print the results\n",
    "print(result.get_counts(circuit))"
   ]
  },
  {
   "cell_type": "code",
   "execution_count": null,
   "metadata": {},
   "outputs": [],
   "source": [
    "# import libraries\n",
    "from qiskit import QuantumCircuit, QuantumRegister, ClassicalRegister\n",
    "from qiskit import BasicAer, execute\n",
    "from qiskit.aqua.operators import WeightedPauliOperator\n",
    "\n",
    "# define the circuit\n",
    "q = QuantumRegister(3)\n",
    "c = ClassicalRegister(3)\n",
    "circuit = QuantumCircuit(q, c)\n",
    "\n",
    "# define weights for the cost Hamiltonian\n",
    "cost_weights = [1,1,1]\n",
    "\n",
    "# define the cost Hamiltonian\n",
    "cost_operator = WeightedPauliOperator(paulis=[\n",
    "        (cost_weights[0], Pauli(label='X0 X1')),\n",
    "        (cost_weights[1], Pauli(label='X1 X2')),\n",
    "        (cost_weights[2], Pauli(label='X2 X0'))\n",
    "    ])\n",
    "\n",
    "# define the mixing Hamiltonian\n",
    "mix_operator = WeightedPauliOperator(paulis=[\n",
    "        (1, Pauli(label='Z0')),\n",
    "        (1, Pauli(label='Z1')),\n",
    "        (1, Pauli(label='Z2'))\n",
    "    ])\n",
    "\n",
    "# define the number of steps\n",
    "steps = 3\n",
    "\n",
    "# add the gates for the QAOA circuit\n",
    "circuit.h(q)\n",
    "for i in range(steps):\n",
    "    circuit.barrier()\n",
    "    circuit.rx(2*cost_operator.eval('111111'), q) \n",
    "    circuit.barrier()\n",
    "    circuit.rz(2*mix_operator.eval('111111'), q)\n",
    "\n",
    "# measure the result\n",
    "circuit.measure(q,c)\n",
    "\n",
    "# execute the circuit\n",
    "backend = BasicAer.get_backend('qasm_simulator')\n",
    "job = execute(circuit, backend, shots=1000)\n",
    "result = job.result()\n",
    "\n",
    "# print the result\n",
    "print(result.get_counts(circuit))"
   ]
  },
  {
   "cell_type": "code",
   "execution_count": 3,
   "metadata": {},
   "outputs": [
    {
     "ename": "ModuleNotFoundError",
     "evalue": "No module named 'qiskit.algorithms.minimum_eigensolvers.QAOA'",
     "output_type": "error",
     "traceback": [
      "\u001b[0;31m---------------------------------------------------------------------------\u001b[0m",
      "\u001b[0;31mModuleNotFoundError\u001b[0m                       Traceback (most recent call last)",
      "Cell \u001b[0;32mIn [3], line 5\u001b[0m\n\u001b[1;32m      3\u001b[0m \u001b[39mfrom\u001b[39;00m \u001b[39mqiskit\u001b[39;00m \u001b[39mimport\u001b[39;00m execute\n\u001b[1;32m      4\u001b[0m \u001b[39mfrom\u001b[39;00m \u001b[39mqiskit\u001b[39;00m \u001b[39mimport\u001b[39;00m Aer\n\u001b[0;32m----> 5\u001b[0m \u001b[39mfrom\u001b[39;00m \u001b[39mqiskit\u001b[39;00m\u001b[39m.\u001b[39;00m\u001b[39malgorithms\u001b[39;00m\u001b[39m.\u001b[39;00m\u001b[39mminimum_eigensolvers\u001b[39;00m\u001b[39m.\u001b[39;00m\u001b[39mQAOA\u001b[39;00m \u001b[39mimport\u001b[39;00m QAOA\n\u001b[1;32m      8\u001b[0m \u001b[39m# set up cost function\u001b[39;00m\n\u001b[1;32m      9\u001b[0m \u001b[39mdef\u001b[39;00m \u001b[39mcost_function\u001b[39m(x):\n",
      "\u001b[0;31mModuleNotFoundError\u001b[0m: No module named 'qiskit.algorithms.minimum_eigensolvers.QAOA'"
     ]
    }
   ],
   "source": [
    "# import libraries\n",
    "from qiskit import QuantumCircuit, ClassicalRegister, QuantumRegister\n",
    "from qiskit import execute\n",
    "from qiskit import Aer\n",
    "from qiskit.aqua.algorithms import QAOA\n",
    "\n",
    "# set up cost function\n",
    "def cost_function(x):\n",
    "    cost = 0\n",
    "    N = 3 # Number of nodes\n",
    "    weight_matrix = [[0, 10, 15],\n",
    "                     [10, 0, 35],\n",
    "                     [15, 35, 0]]\n",
    "    for i in range(N):\n",
    "        for j in range(N):\n",
    "            if i != j:\n",
    "                cost += weight_matrix[I][j] * x[i][j]\n",
    "    return cost\n",
    "\n",
    "# set up the quantum circuit\n",
    "q = QuantumRegister(N**2)\n",
    "c = ClassicalRegister(N**2)\n",
    "qc = QuantumCircuit(q, c)\n",
    "\n",
    "# set up QAOA\n",
    "qaoa = QAOA(N, cost_function)\n",
    "\n",
    "# add gates to the quantum circuit\n",
    "for i in range(N):\n",
    "    qc.h(q[i])\n",
    "for i in range(N):\n",
    "    qc.x(q[i])\n",
    "for i in range(N):\n",
    "    qc.rz(qaoa.angles[i], q[i])\n",
    "for i in range(N):\n",
    "    qc.h(q[i])\n",
    "for i in range(N):\n",
    "    qc.cx(q[i], q[i+1])\n",
    "qc.measure(q, c)\n",
    "\n",
    "# execute the circuit\n",
    "backend = Aer.get_backend('qasm_simulator')\n",
    "job = execute(qc, backend, shots=1000)\n",
    "result = job.result()\n",
    "\n",
    "# get the final state\n",
    "final_state = result.get_counts()\n",
    "\n",
    "# print the final state and the cost\n",
    "print(\"final state:\", final_state)\n",
    "print(\"cost:\", cost_function(final_state))"
   ]
  },
  {
   "cell_type": "code",
   "execution_count": 4,
   "metadata": {},
   "outputs": [
    {
     "data": {
      "text/plain": [
       "'0.22.1'"
      ]
     },
     "execution_count": 4,
     "metadata": {},
     "output_type": "execute_result"
    }
   ],
   "source": [
    "import qiskit\n",
    "qiskit.__version__"
   ]
  }
 ],
 "metadata": {
  "kernelspec": {
   "display_name": "quantum",
   "language": "python",
   "name": "python3"
  },
  "language_info": {
   "codemirror_mode": {
    "name": "ipython",
    "version": 3
   },
   "file_extension": ".py",
   "mimetype": "text/x-python",
   "name": "python",
   "nbconvert_exporter": "python",
   "pygments_lexer": "ipython3",
   "version": "3.10.6"
  },
  "orig_nbformat": 4,
  "vscode": {
   "interpreter": {
    "hash": "49eafe97ca7293e1e87e3552df4ad6cd1cb816687cbbcb2ea2b3518cc5ded584"
   }
  }
 },
 "nbformat": 4,
 "nbformat_minor": 2
}
