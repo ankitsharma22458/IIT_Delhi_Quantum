{
 "cells": [
  {
   "cell_type": "code",
   "execution_count": null,
   "metadata": {},
   "outputs": [],
   "source": [
    "from qiskit import BasicAer\n",
    "from qiskit.aqua import QuantumInstance\n",
    "from qiskit.aqua.components.feature_maps import SecondorderExpansion\n",
    "from qiskit.aqua.components.multiclass_extensions import AllPairs\n",
    "from qiskit.aqua.algorithms import QSVM\n",
    "\n",
    "training_data = {'Passenger 1':[5500,3500], 'Passenger 2':[1400,1105]}\n",
    "training_labels = {'Passenger 1':1, 'Passenger 2':0}\n",
    "\n",
    "feature_map = SecondorderExpansion(feature_dimension=2,depth=2)\n",
    "\n",
    "multiclass_extension = AllPairs()\n",
    "\n",
    "svm = QSVM(feature_map,multiclass_extension)\n",
    "\n",
    "backend = BasicAer.get_backend('qasm_simulator')\n",
    "quantum_instance = QuantumInstance(backend,shots=1024)\n",
    "\n",
    "svm.fit(training_data,training_labels,quantum_instance)\n",
    "\n",
    "third_passenger = [2000,900]\n",
    "\n",
    "prediction = svm.predict(third_passenger,quantum_instance)\n",
    "\n",
    "print(\"the survivability of the third passenger is \", prediction)"
   ]
  }
 ],
 "metadata": {
  "kernelspec": {
   "display_name": "dataScienceEnv",
   "language": "python",
   "name": "python3"
  },
  "language_info": {
   "codemirror_mode": {
    "name": "ipython",
    "version": 3
   },
   "file_extension": ".py",
   "mimetype": "text/x-python",
   "name": "python",
   "nbconvert_exporter": "python",
   "pygments_lexer": "ipython3",
   "version": "3.8.8"
  },
  "orig_nbformat": 4,
  "vscode": {
   "interpreter": {
    "hash": "399ad8e6089c16fbccd20f7ce19a022748c063949a8a55844853d4ba78a8dda4"
   }
  }
 },
 "nbformat": 4,
 "nbformat_minor": 2
}
