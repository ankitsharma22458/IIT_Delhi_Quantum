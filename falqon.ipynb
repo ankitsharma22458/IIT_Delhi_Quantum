{
  "cells": [
    {
      "cell_type": "code",
      "execution_count": null,
      "metadata": {
        "collapsed": false
      },
      "outputs": [],
      "source": [
        "# This cell is added by sphinx-gallery\n",
        "# It can be customized to whatever you like\n",
        "%matplotlib inline"
      ]
    },
    {
      "cell_type": "markdown",
      "metadata": {},
      "source": [
        "Feedback-Based Quantum Optimization (FALQON)\n",
        "============================================\n",
        "\n",
        "::: {.meta}\n",
        ":property=\\\"og:description\\\": Solve combinatorial optimization problems\n",
        "without a classical optimizer :property=\\\"og:image\\\":\n",
        "<https://pennylane.ai/qml/_images/falqon_thumbnail.png>\n",
        ":::\n",
        "\n",
        "::: {.related}\n",
        "tutorial\\_qaoa\\_intro Intro to QAOA tutorial\\_qaoa\\_maxcut QAOA for\n",
        "MaxCut\n",
        ":::\n",
        "\n",
        "*Authors: David Wakeham and Jack Ceroni --- Posted: 21 May 2021. Last\n",
        "updated: 21 May 2021.*\n",
        "\n",
        "------------------------------------------------------------------------\n",
        "\n",
        "While the [Quantum Approximate Optimization Algorithm\n",
        "(QAOA)](https://pennylane.ai/qml/demos/tutorial_qaoa_intro.html) is one\n",
        "of the best-known processes for solving combinatorial optimization\n",
        "problems with quantum computers, it has a major drawback: convergence\n",
        "isn\\'t guaranteed, as the optimization procedure can become \\\"stuck\\\" in\n",
        "local minima.\n",
        "\n",
        "![](../demonstrations/falqon/global_min_graph.png){.align-center\n",
        "width=\"70.0%\"}\n",
        "\n",
        "This tutorial explores the **FALQON** algorithm introduced in [a recent\n",
        "paper by Magann et al.](https://arxiv.org/pdf/2103.08619.pdf) It is\n",
        "similar in spirit to QAOA, but uses iterative feedback steps rather than\n",
        "a global optimization over parameters, avoiding the use of a classical\n",
        "optimizer.\n",
        "\n",
        "In this demo, we will implement FALQON to solve the MaxClique problem in\n",
        "graph theory, perform benchmarking, and combine FALQON with QAOA to\n",
        "create a powerful optimization procedure.\n",
        "\n",
        "::: {.note}\n",
        "::: {.title}\n",
        "Note\n",
        ":::\n",
        "\n",
        "If you are not familiar with QAOA, we recommend checking out the [Intro\n",
        "to QAOA\n",
        "tutorial](https://pennylane.ai/qml/demos/tutorial_qaoa_intro.html),\n",
        "since many of the same ideas carry over and will be used throughout this\n",
        "demonstration.\n",
        ":::\n",
        "\n",
        "Theory\n",
        "------\n",
        "\n",
        "To solve a combinatorial optimization problem with a quantum computer, a\n",
        "typical strategy is to encode the solution to the problem as the ground\n",
        "state of a *cost Hamiltonian* $H_c$. Then, we use some procedure to\n",
        "drive an initial state into the ground state of $H_c$. FALQON falls\n",
        "under this broad scheme.\n",
        "\n",
        "Consider a quantum system governed by a Hamiltonian of the form\n",
        "$H = H_c + \\beta(t) H_d$. These kinds of Hamiltonians appear often in\n",
        "the theory of [quantum\n",
        "control](https://quantiki.org/wiki/quantum-control-theory), a field of\n",
        "inquiry which studies how a quantum system can be driven from one state\n",
        "to another. The choice of $\\beta(t)$ corresponds to a \\\"driving\n",
        "strategy\\\", which partially determines how the system evolves with time.\n",
        "\n",
        "Suppose our objective is to drive some quantum system to the ground\n",
        "state of $H_c$. It is a reasonable goal to construct a quantum control\n",
        "process such that the energy expectation $\\langle H_c \\rangle_t$\n",
        "decreases with time:\n",
        "\n",
        "$$\\frac{d}{dt} \\langle H_c\\rangle_t = \\frac{d}{dt} \\langle \\psi(t)|H_c|\\psi(t)\\rangle = i \\beta(t)\\langle [H_d, H_c] \\rangle_t \\leq 0,$$\n",
        "\n",
        "where the product rule and [the Schrödinger\n",
        "equation](https://en.wikipedia.org/wiki/Schr%C3%B6dinger_equation#Time-dependent_equation)\n",
        "are used to derive the above formula. If we pick\n",
        "$\\beta(t) = -\\langle i[H_d, H_c] \\rangle_t,$ so that\n",
        "\n",
        "$$\\frac{d}{dt} \\langle H_c\\rangle_t = -|\\langle i[H_d, H_c] \\rangle_t|^2 \\leq 0,$$\n",
        "\n",
        "then $\\langle H_c \\rangle$ is guaranteed to strictly decrease, as\n",
        "desired! Thus, if we evolve some initial state $|\\psi_0\\rangle$ under\n",
        "the time evolution operator $U$ corresponding to $H$,\n",
        "\n",
        "$$U(T) = \\mathcal{T} \\exp \\Big[ -i \\displaystyle\\int_{0}^{T} H(t) \\ dt \\Big] \\approx \\mathcal{T} \\exp \\Big[ -i \\displaystyle\\sum_{k = 0}^{T/\\Delta t} H( k \\Delta t) \\Delta t \\Big],$$\n",
        "\n",
        "where $\\mathcal{T}$ is the [time-ordering\n",
        "operator](https://en.wikipedia.org/wiki/Path-ordering#Time_ordering) and\n",
        "$\\Delta t$ is some small time step, then the energy expectation will\n",
        "strictly decrease, for a large enough value of $T$. This is exactly the\n",
        "procedure used by FALQON to minimize $\\langle H_c \\rangle$. In general,\n",
        "implementing a time evolution unitary in a quantum circuit is difficult,\n",
        "so we use a [Trotter-Suzuki\n",
        "decomposition](https://en.wikipedia.org/wiki/Time-evolving_block_decimation#The_Suzuki%E2%80%93Trotter_expansion)\n",
        "to perform approximate time evolution. We then have\n",
        "\n",
        "$$U(T) \\approx \\mathcal{T} \\exp \\Big[ -i \\displaystyle\\sum_{k = 0}^{T/\\Delta t} H( k \\Delta t) \\Delta t \\Big] \\approx\n",
        "e^{-i\\beta_n H_d \\Delta t} e^{-iH_c \\Delta t} \\cdots e^{-i\\beta_1 H_d \\Delta t} e^{-iH_c \\Delta t} = U_d(\\beta_n) U_c \\cdots U_d(\\beta_1) U_c,$$\n",
        "\n",
        "where $n = T/\\Delta t$ and $\\beta_k = \\beta(k\\Delta t)$. For each layer\n",
        "of the time evolution, the value $\\beta_k$ is required. However,\n",
        "$\\beta_k$ is dependent on the state of the system at some time. Recall\n",
        "that\n",
        "\n",
        "$$\\beta(t) = - \\langle \\psi(t) | i [H_d, H_c] | \\psi(t) \\rangle.$$\n",
        "\n",
        "We let $A(t) := i\\langle [H_d, H_c] \\rangle_t$. Our strategy is to\n",
        "obtain the values $\\beta_k$ recursively, by finding the value of $A(t)$\n",
        "for the **previous time step**. We then set\n",
        "\n",
        "$$\\beta_{k+1} = -A_k = -A(k\\Delta t).$$\n",
        "\n",
        "This leads to the FALQON algorithm as a recursive process. On step $k$,\n",
        "we perform the following three substeps:\n",
        "\n",
        "1.  Prepare the state\n",
        "    $|\\psi_k\\rangle = U_d(\\beta_k) U_c \\cdots U_d(\\beta_1) U_c|\\psi_0\\rangle$.\n",
        "2.  Measure the expectation value\n",
        "    $A_k = \\langle i[H_c, H_d]\\rangle_{k \\Delta t}$.\n",
        "3.  Set $\\beta_{k+1} = -A_k$.\n",
        "\n",
        "We repeat for all $k$ from $1$ to $n$, where $n$ is a hyperparameter. At\n",
        "the final step we evaluate $\\langle H_c \\rangle$, which gives us an\n",
        "approximation for the ground state of $H_c$.\n",
        "\n",
        "![](../demonstrations/falqon/falqon.png){.align-center width=\"80.0%\"}\n"
      ]
    },
    {
      "cell_type": "markdown",
      "metadata": {},
      "source": [
        "Simulating FALQON with PennyLane\n",
        "================================\n",
        "\n",
        "To begin, we import the necessary dependencies:\n"
      ]
    },
    {
      "cell_type": "code",
      "execution_count": null,
      "metadata": {
        "collapsed": false
      },
      "outputs": [],
      "source": [
        "import pennylane as qml\n",
        "from pennylane import numpy as np\n",
        "from matplotlib import pyplot as plt\n",
        "from pennylane import qaoa as qaoa\n",
        "import networkx as nx"
      ]
    },
    {
      "cell_type": "markdown",
      "metadata": {},
      "source": [
        "In this demonstration, we will be using FALQON to solve the [maximum\n",
        "clique (MaxClique)\n",
        "problem](https://en.wikipedia.org/wiki/Clique_problem): finding the\n",
        "largest complete subgraph of some graph $G$. For example, the following\n",
        "graph\\'s maximum clique is coloured in red:\n",
        "\n",
        "![](../demonstrations/falqon/max_clique.png){.align-center\n",
        "width=\"90.0%\"}\n",
        "\n",
        "We attempt to find the maximum clique of the graph below:\n"
      ]
    },
    {
      "cell_type": "code",
      "execution_count": null,
      "metadata": {
        "collapsed": false
      },
      "outputs": [],
      "source": [
        "edges = [(0, 1), (1, 2), (2, 0), (2, 3), (1, 4)]\n",
        "graph = nx.Graph(edges)\n",
        "nx.draw(graph, with_labels=True, node_color=\"#e377c2\")"
      ]
    },
    {
      "cell_type": "markdown",
      "metadata": {},
      "source": [
        "We must first encode this combinatorial problem into a cost Hamiltonian\n",
        "$H_c$. This ends up being\n",
        "\n",
        "$$H_c = 3 \\sum_{(i, j) \\in E(\\bar{G})} (Z_i Z_j - Z_i - Z_j) + \\displaystyle\\sum_{i \\in V(G)} Z_i,$$\n",
        "\n",
        "where each qubit is a node in the graph, and the states $|0\\rangle$ and\n",
        "$|1\\rangle$ represent whether the vertex has been marked as part of the\n",
        "clique, as is the case for [most standard QAOA encoding\n",
        "schemes](https://arxiv.org/abs/1709.03489). Note that $\\bar{G}$ is the\n",
        "complement of $G$: the graph formed by connecting all nodes that **do\n",
        "not** share an edge in $G$.\n",
        "\n",
        "In addition to defining $H_c$, we also require a driver Hamiltonian\n",
        "$H_d$ which does not commute with $H_c$. The driver Hamiltonian\\'s role\n",
        "is similar to that of the mixer Hamiltonian in QAOA. To keep things\n",
        "simple, we choose a sum over Pauli $X$ operations on each qubit:\n",
        "\n",
        "$$H_d = \\displaystyle\\sum_{i \\in V(G)} X_i.$$\n",
        "\n",
        "These Hamiltonians come nicely bundled together in the PennyLane QAOA\n",
        "module:\n"
      ]
    },
    {
      "cell_type": "code",
      "execution_count": null,
      "metadata": {
        "collapsed": false
      },
      "outputs": [],
      "source": [
        "cost_h, driver_h = qaoa.max_clique(graph, constrained=False)\n",
        "\n",
        "print(\"Cost Hamiltonian\")\n",
        "print(cost_h)\n",
        "print(\"Driver Hamiltonian\")\n",
        "print(driver_h)"
      ]
    },
    {
      "cell_type": "markdown",
      "metadata": {},
      "source": [
        "One of the main ingredients in the FALQON algorithm is the operator\n",
        "$i [H_d, H_c]$. In the case of MaxClique, we can write down the\n",
        "commutator $[H_d, H_c]$ explicitly:\n",
        "\n",
        "$$[H_d, H_c] = 3 \\displaystyle\\sum_{k \\in V(G)} \\displaystyle\\sum_{(i, j) \\in E(\\bar{G})} \\big( [X_k, Z_i Z_j] - [X_k, Z_i]\n",
        "- [X_k, Z_j] \\big) + 3 \\displaystyle\\sum_{i \\in V(G)} \\displaystyle\\sum_{j \\in V(G)} [X_i, Z_j].$$\n",
        "\n",
        "There are two distinct commutators that we must calculate, $[X_k, Z_j]$\n",
        "and $[X_k, Z_i Z_j]$. This is straightforward as we know exactly what\n",
        "the [commutators of the Pauli\n",
        "matrices](https://en.wikipedia.org/wiki/Pauli_matrices#Commutation_relations)\n",
        "are. We have:\n",
        "\n",
        "$$[X_k, Z_j] = -2 i \\delta_{kj} Y_k \\ \\ \\ \\text{and} \\ \\ \\ [X_k, Z_i Z_j] = -2 i \\delta_{ik} Y_k Z_j - 2i \\delta_{jk} Z_i Y_k,$$\n",
        "\n",
        "where $\\delta_{kj}$ is the [Kronecker\n",
        "delta](https://en.wikipedia.org/wiki/Kronecker_delta). Therefore it\n",
        "follows from substitution into the above equation and multiplication by\n",
        "$i$ that:\n",
        "\n",
        "$$i [H_d, H_c] = 6 \\displaystyle\\sum_{k \\in V(G)} \\displaystyle\\sum_{(i, j) \\in E(\\bar{G})} \\big( \\delta_{ki} Y_k Z_j +\n",
        "\\delta_{kj} Z_{i} Y_{k} - \\delta_{ki} Y_k - \\delta_{kj} Y_k \\big) + 6 \\displaystyle\\sum_{i \\in V(G)} Y_{i}.$$\n",
        "\n",
        "This new operator has quite a few terms! Therefore, we write a short\n",
        "method which computes it for us, and returns a\n",
        "`~.pennylane.Hamiltonian`{.interpreted-text role=\"class\"} object. Note\n",
        "that this method works for any graph:\n"
      ]
    },
    {
      "cell_type": "code",
      "execution_count": null,
      "metadata": {
        "collapsed": false
      },
      "outputs": [],
      "source": [
        "def build_hamiltonian(graph):\n",
        "    H = qml.Hamiltonian([], [])\n",
        "\n",
        "    # Computes the complement of the graph\n",
        "    graph_c = nx.complement(graph)\n",
        "\n",
        "    for k in graph_c.nodes:\n",
        "        # Adds the terms in the first sum\n",
        "        for edge in graph_c.edges:\n",
        "            i, j = edge\n",
        "            if k == i:\n",
        "                H += 6 * (qml.PauliY(k) @ qml.PauliZ(j) - qml.PauliY(k))\n",
        "            if k == j:\n",
        "                H += 6 * (qml.PauliZ(i) @ qml.PauliY(k) - qml.PauliY(k))\n",
        "        # Adds the terms in the second sum\n",
        "        H += 6 * qml.PauliY(k)\n",
        "\n",
        "    return H\n",
        "\n",
        "\n",
        "print(\"MaxClique Commutator\")\n",
        "print(build_hamiltonian(graph))"
      ]
    },
    {
      "cell_type": "markdown",
      "metadata": {},
      "source": [
        "We can now build the FALQON algorithm. Our goal is to evolve some\n",
        "initial state under the Hamiltonian $H$, with our chosen $\\beta(t)$. We\n",
        "first define one layer of the Trotterized time evolution, which is of\n",
        "the form $U_d(\\beta_k) U_c$. Note that we can use the\n",
        "`~.pennylane.templates.ApproxTimeEvolution`{.interpreted-text\n",
        "role=\"class\"} template:\n"
      ]
    },
    {
      "cell_type": "code",
      "execution_count": null,
      "metadata": {
        "collapsed": false
      },
      "outputs": [],
      "source": [
        "def falqon_layer(beta_k, cost_h, driver_h, delta_t):\n",
        "    qml.ApproxTimeEvolution(cost_h, delta_t, 1)\n",
        "    qml.ApproxTimeEvolution(driver_h, delta_t * beta_k, 1)"
      ]
    },
    {
      "cell_type": "markdown",
      "metadata": {},
      "source": [
        "We then define a method which returns a FALQON ansatz corresponding to a\n",
        "particular cost Hamiltonian, driver Hamiltonian, and $\\Delta t$. This\n",
        "involves multiple repetitions of the \\\"FALQON layer\\\" defined above. The\n",
        "initial state of our circuit is an even superposition:\n"
      ]
    },
    {
      "cell_type": "code",
      "execution_count": null,
      "metadata": {
        "collapsed": false
      },
      "outputs": [],
      "source": [
        "def build_maxclique_ansatz(cost_h, driver_h, delta_t):\n",
        "    def ansatz(beta, **kwargs):\n",
        "        layers = len(beta)\n",
        "        for w in dev.wires:\n",
        "            qml.Hadamard(wires=w)\n",
        "        qml.layer(\n",
        "            falqon_layer,\n",
        "            layers,\n",
        "            beta,\n",
        "            cost_h=cost_h,\n",
        "            driver_h=driver_h,\n",
        "            delta_t=delta_t\n",
        "        )\n",
        "\n",
        "    return ansatz\n",
        "\n",
        "\n",
        "def expval_circuit(beta, measurement_h):\n",
        "    ansatz = build_maxclique_ansatz(cost_h, driver_h, delta_t)\n",
        "    ansatz(beta)\n",
        "    return qml.expval(measurement_h)"
      ]
    },
    {
      "cell_type": "markdown",
      "metadata": {},
      "source": [
        "Finally, we implement the recursive process, where FALQON is able to\n",
        "determine the values of $\\beta_k$, feeding back into itself as the\n",
        "number of layers increases. This is straightforward using the methods\n",
        "defined above:\n"
      ]
    },
    {
      "cell_type": "code",
      "execution_count": null,
      "metadata": {
        "collapsed": false
      },
      "outputs": [],
      "source": [
        "def max_clique_falqon(graph, n, beta_1, delta_t, dev):\n",
        "    comm_h = build_hamiltonian(graph) # Builds the commutator\n",
        "    cost_h, driver_h = qaoa.max_clique(graph, constrained=False) # Builds H_c and H_d\n",
        "    cost_fn = qml.QNode(expval_circuit, dev) # The ansatz + measurement circuit is executable\n",
        "\n",
        "    beta = [beta_1] # Records each value of beta_k\n",
        "    energies = [] # Records the value of the cost function at each step\n",
        "\n",
        "    for i in range(n):\n",
        "        # Adds a value of beta to the list and evaluates the cost function\n",
        "        beta.append(-1 * cost_fn(beta, measurement_h=comm_h))  # this call measures the expectation of the commuter hamiltonian\n",
        "        energy = cost_fn(beta, measurement_h=cost_h)  # this call measures the expectation of the cost hamiltonian\n",
        "        energies.append(energy)\n",
        "\n",
        "    return beta, energies"
      ]
    },
    {
      "cell_type": "markdown",
      "metadata": {},
      "source": [
        "Note that we return both the list of $\\beta_k$ values, as well as the\n",
        "expectation value of the cost Hamiltonian for each step.\n",
        "\n",
        "We can now run FALQON for our MaxClique problem! It is important that we\n",
        "choose $\\Delta t$ small enough such that the approximate time evolution\n",
        "is close enough to the real time evolution, otherwise we the expectation\n",
        "value of $H_c$ may not strictly decrease. For this demonstration, we set\n",
        "$\\Delta t = 0.03$, $n = 40$, and $\\beta_1 = 0$. These are comparable to\n",
        "the hyperparameters chosen in the original paper.\n"
      ]
    },
    {
      "cell_type": "code",
      "execution_count": null,
      "metadata": {
        "collapsed": false
      },
      "outputs": [],
      "source": [
        "n = 40\n",
        "beta_1 = 0.0\n",
        "delta_t = 0.03\n",
        "\n",
        "dev = qml.device(\"default.qubit\", wires=graph.nodes) # Creates a device for the simulation\n",
        "res_beta, res_energies = max_clique_falqon(graph, n, beta_1, delta_t, dev)"
      ]
    },
    {
      "cell_type": "markdown",
      "metadata": {},
      "source": [
        "We can then plot the expectation value of the cost Hamiltonian over the\n",
        "iterations of the algorithm:\n"
      ]
    },
    {
      "cell_type": "code",
      "execution_count": null,
      "metadata": {
        "collapsed": false
      },
      "outputs": [],
      "source": [
        "plt.plot(range(n+1)[1:], res_energies)\n",
        "plt.xlabel(\"Iteration\")\n",
        "plt.ylabel(\"Cost Function Value\")\n",
        "plt.show()"
      ]
    },
    {
      "cell_type": "markdown",
      "metadata": {},
      "source": [
        "The expectation value decreases!\n",
        "\n",
        "To get a better understanding of the performance of the FALQON\n",
        "algorithm, we can create a graph showing the probability of measuring\n",
        "each possible bit string. We define the following circuit, feeding in\n",
        "the optimal values of $\\beta_k$:\n"
      ]
    },
    {
      "cell_type": "code",
      "execution_count": null,
      "metadata": {
        "collapsed": false
      },
      "outputs": [],
      "source": [
        "@qml.qnode(dev)\n",
        "def prob_circuit():\n",
        "    ansatz = build_maxclique_ansatz(cost_h, driver_h, delta_t)\n",
        "    ansatz(res_beta)\n",
        "    return qml.probs(wires=dev.wires)"
      ]
    },
    {
      "cell_type": "markdown",
      "metadata": {},
      "source": [
        "Running this circuit gives us the following probability distribution:\n"
      ]
    },
    {
      "cell_type": "code",
      "execution_count": null,
      "metadata": {
        "collapsed": false
      },
      "outputs": [],
      "source": [
        "probs = prob_circuit()\n",
        "plt.bar(range(2**len(dev.wires)), probs)\n",
        "plt.xlabel(\"Bit string\")\n",
        "plt.ylabel(\"Measurement Probability\")\n",
        "plt.show()"
      ]
    },
    {
      "cell_type": "markdown",
      "metadata": {},
      "source": [
        "The bit string occurring with the highest probability is the state\n",
        "$|28\\rangle = |11100\\rangle$. This corresponds to nodes $0$, $1$, and\n",
        "$2$, which is precisely the maximum clique. FALQON has solved the\n",
        "MaxClique problem 🤩.\n"
      ]
    },
    {
      "cell_type": "code",
      "execution_count": null,
      "metadata": {
        "collapsed": false
      },
      "outputs": [],
      "source": [
        "graph = nx.Graph(edges)\n",
        "cmap = [\"#00b4d9\"]*3 + [\"#e377c2\"]*2\n",
        "nx.draw(graph, with_labels=True, node_color=cmap)"
      ]
    },
    {
      "cell_type": "markdown",
      "metadata": {},
      "source": [
        "Benchmarking FALQON\n",
        "===================\n",
        "\n",
        "After seeing how FALQON works, it is worth considering how well FALQON\n",
        "performs according to a set of benchmarking criteria on a batch of\n",
        "graphs. We generate graphs randomly using the [Erdos-Renyi\n",
        "model](https://en.wikipedia.org/wiki/Erd%C5%91s%E2%80%93R%C3%A9nyi_model),\n",
        "where we start with the complete graph on $n$ vertices and then keep\n",
        "each edge with probability $p$. We then find the maximum cliques on\n",
        "these graphs using the [Bron-Kerbosch\n",
        "algorithm](https://en.wikipedia.org/wiki/Bron%E2%80%93Kerbosch_algorithm).\n",
        "To benchmark FALQON, the relative error in the estimated minimum energy\n",
        "\n",
        "$$r_A = \\frac{\\langle H_C\\rangle - \\langle H_C\\rangle_\\text{min}}{|\\langle H_C\\rangle_\\text{min}|}$$\n",
        "\n",
        "makes a good figure of merit.\n",
        "\n",
        "Final results for $r_A$, along with $\\beta$, are plotted below, with the\n",
        "number of FALQON layers on the horizontal axis. We have averaged over\n",
        "$50$ random graphs per node size, for sizes $n = 6, 7, 8, 9$, with\n",
        "probability $p = 0.1$ of keeping an edge. Running FALQON for $40$ steps,\n",
        "with $\\Delta t = 0.01$, produces:\n",
        "\n",
        "![](../demonstrations/falqon/bench.png){.align-center width=\"60.0%\"}\n",
        "\n",
        "The relative error decreases with the number of layers (as we expect\n",
        "from the construction) and graph size (suggesting the errors grows more\n",
        "slowly than the minimum energy). The exception is $n = 9$, where the\n",
        "step size has become too large and the Trotter-Suzuki decomposition\n",
        "breaks down. The rate of decrease also slows down. Even though the\n",
        "algorithm will converge to the ground state, it won\\'t always get there\n",
        "in a few time steps!\n"
      ]
    },
    {
      "cell_type": "markdown",
      "metadata": {},
      "source": [
        "Seeding QAOA with FALQON (Bird Seed 🦅)\n",
        "======================================\n",
        "\n",
        "![](../demonstrations/falqon/bird_seed.png){.align-center width=\"90.0%\"}\n",
        "\n",
        "Both FALQON and QAOA have unique benefits and drawbacks. While FALQON\n",
        "requires no classical optimization and is guaranteed to decrease the\n",
        "cost function with each iteration, its circuit depth grows linearly with\n",
        "the number of iterations. The benchmarking data also shows how the\n",
        "reduction in cost slows with each layer, and the additional burden of\n",
        "correctly tuning the time step. On the other hand, QAOA has a fixed\n",
        "circuit depth, but does require classical optimization, and is therefore\n",
        "subject to all of the drawbacks that come with probing a cost landscape\n",
        "for a set of optimal parameters.\n",
        "\n",
        "QAOA and FALQON also have many similarities, most notably, their circuit\n",
        "structure. Both involve alternating layers of time evolution operators\n",
        "corresponding to a cost and a mixer/driver Hamiltonian. The FALQON paper\n",
        "raises the idea of combining FALQON and QAOA to yield a new optimization\n",
        "algorithm that leverages the benefits of both. In this final section of\n",
        "the tutorial, we will implement this procedure in PennyLane.\n",
        "\n",
        "Suppose we want to run a QAOA circuit of depth $p$. Our ansatz will be\n",
        "of the form\n",
        "\n",
        "$$U_{\\text{QAOA}} = e^{-i \\alpha_p H_m} e^{-i \\gamma_p H_c} \\cdots e^{-i \\alpha_1 H_m} e^{-i \\gamma_1 H_c},$$\n",
        "\n",
        "for sets of parameters $\\{\\alpha_k\\}$ and $\\{\\gamma_k\\}$, which are\n",
        "optimized. If we run FALQON for $p$ steps, setting $H_d = H_m$, and use\n",
        "the same cost Hamiltonian, we will end up with the following ansatz:\n",
        "\n",
        "$$U_{\\text{FALQON}} = e^{-i \\Delta t \\beta_p H_m} e^{-i \\Delta t H_c} \\cdots e^{-i \\Delta t \\beta_1 H_m} e^{-i \\Delta t H_c}.$$\n",
        "\n",
        "Thus, our strategy is to initialize our QAOA parameters using the\n",
        "$\\beta_k$ values that FALQON yields. More specifically, we set\n",
        "$\\alpha_k = \\Delta t \\beta_k$ and $\\gamma_k = \\Delta t$. We then\n",
        "optimize over these parameters. The goal is that these parameters\n",
        "provide QAOA a good place in the parameter space to begin its\n",
        "optimization.\n",
        "\n",
        "Using the code from earlier in the demonstration, we can easily\n",
        "prototype this process. To illustrate the power of this new technique,\n",
        "we attempt to solve MaxClique on a slightly more complicated graph:\n"
      ]
    },
    {
      "cell_type": "code",
      "execution_count": null,
      "metadata": {
        "collapsed": false
      },
      "outputs": [],
      "source": [
        "new_edges = [(0, 1), (1, 2), (2, 0), (2, 3), (1, 4), (4, 5), (5, 2), (0, 6)]\n",
        "new_graph = nx.Graph(new_edges)\n",
        "nx.draw(new_graph, with_labels=True, node_color=\"#e377c2\")"
      ]
    },
    {
      "cell_type": "markdown",
      "metadata": {},
      "source": [
        "We can now use the PennyLane QAOA module to create a QAOA circuit\n",
        "corresponding to the MaxClique problem. For this demonstration, we set\n",
        "the depth to $5$:\n"
      ]
    },
    {
      "cell_type": "code",
      "execution_count": null,
      "metadata": {
        "collapsed": false
      },
      "outputs": [],
      "source": [
        "depth = 5\n",
        "dev = qml.device(\"default.qubit\", wires=new_graph.nodes)\n",
        "\n",
        "# Creates the cost and mixer Hamiltonians\n",
        "cost_h, mixer_h = qaoa.max_clique(new_graph, constrained=False)\n",
        "\n",
        "# Creates a layer of QAOA\n",
        "def qaoa_layer(gamma, beta):\n",
        "    qaoa.cost_layer(gamma, cost_h)\n",
        "    qaoa.mixer_layer(beta, mixer_h)\n",
        "\n",
        "# Creates the full QAOA circuit as an executable cost function\n",
        "def qaoa_circuit(params, **kwargs):\n",
        "    for w in dev.wires:\n",
        "        qml.Hadamard(wires=w)\n",
        "    qml.layer(qaoa_layer, depth, params[0], params[1])\n",
        "\n",
        "\n",
        "@qml.qnode(dev)\n",
        "def qaoa_expval(params):\n",
        "    qaoa_circuit(params)\n",
        "    return qml.expval(cost_h)"
      ]
    },
    {
      "cell_type": "markdown",
      "metadata": {},
      "source": [
        "Now all we have to do is run FALQON for $5$ steps to get our initial\n",
        "QAOA parameters. We set $\\Delta t = 0.02$:\n"
      ]
    },
    {
      "cell_type": "code",
      "execution_count": null,
      "metadata": {
        "collapsed": false
      },
      "outputs": [],
      "source": [
        "delta_t = 0.02\n",
        "\n",
        "res, res_energy = max_clique_falqon(new_graph, depth-1, 0.0, delta_t, dev)\n",
        "\n",
        "params = np.array([[delta_t for k in res], [delta_t * k for k in res]], requires_grad=True)"
      ]
    },
    {
      "cell_type": "markdown",
      "metadata": {},
      "source": [
        "Finally, we run our QAOA optimization procedure. We set the number of\n",
        "QAOA executions to $40$:\n"
      ]
    },
    {
      "cell_type": "code",
      "execution_count": null,
      "metadata": {
        "collapsed": false
      },
      "outputs": [],
      "source": [
        "steps = 40\n",
        "\n",
        "optimizer = qml.GradientDescentOptimizer()\n",
        "\n",
        "for s in range(steps):\n",
        "    params, cost = optimizer.step_and_cost(qaoa_expval, params)\n",
        "    print(\"Step {}, Cost = {}\".format(s + 1, cost))"
      ]
    },
    {
      "cell_type": "markdown",
      "metadata": {},
      "source": [
        "To conclude, we can check how well FALQON/QAOA solved the optimization\n",
        "problem. We define a circuit which outputs the probabilities of\n",
        "measuring each bit string, and create a bar graph:\n"
      ]
    },
    {
      "cell_type": "code",
      "execution_count": null,
      "metadata": {
        "collapsed": false
      },
      "outputs": [],
      "source": [
        "@qml.qnode(dev)\n",
        "def prob_circuit(params):\n",
        "    qaoa_circuit(params)\n",
        "    return qml.probs(wires=dev.wires)\n",
        "\n",
        "probs = prob_circuit(params)\n",
        "plt.bar(range(2**len(dev.wires)), probs)\n",
        "plt.xlabel(\"Bit string\")\n",
        "plt.ylabel(\"Measurement Probability\")\n",
        "plt.show()"
      ]
    },
    {
      "cell_type": "markdown",
      "metadata": {},
      "source": [
        "The state $|112\\rangle = |1110000\\rangle$ occurs with highest\n",
        "probability. This corresponds to nodes $0$, $1$, and $2$ of the graph,\n",
        "which is the maximum clique! We have successfully combined FALQON and\n",
        "QAOA to solve a combinatorial optimization problem 🎉.\n",
        "\n",
        "References\n",
        "==========\n",
        "\n",
        "Magann, A. B., Rudinger, K. M., Grace, M. D., & Sarovar, M. (2021).\n",
        "Feedback-based quantum optimization. arXiv preprint\n",
        "[arXiv:2103.08619](https://arxiv.org/abs/2103.08619).\n",
        "\n",
        "About the authors\n",
        "=================\n"
      ]
    }
  ],
  "metadata": {
    "kernelspec": {
      "display_name": "dataScienceEnv",
      "language": "python",
      "name": "python3"
    },
    "language_info": {
      "codemirror_mode": {
        "name": "ipython",
        "version": 3
      },
      "file_extension": ".py",
      "mimetype": "text/x-python",
      "name": "python",
      "nbconvert_exporter": "python",
      "pygments_lexer": "ipython3",
      "version": "3.8.8 | packaged by conda-forge | (default, Feb 20 2021, 15:50:57) \n[Clang 11.0.1 ]"
    },
    "vscode": {
      "interpreter": {
        "hash": "399ad8e6089c16fbccd20f7ce19a022748c063949a8a55844853d4ba78a8dda4"
      }
    }
  },
  "nbformat": 4,
  "nbformat_minor": 0
}
